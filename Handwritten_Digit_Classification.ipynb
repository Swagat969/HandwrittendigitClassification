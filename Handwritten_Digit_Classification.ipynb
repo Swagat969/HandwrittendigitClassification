{
  "nbformat": 4,
  "nbformat_minor": 0,
  "metadata": {
    "colab": {
      "name": "Handwritten_Digit_Classification.ipynb",
      "provenance": []
    },
    "kernelspec": {
      "name": "python3",
      "display_name": "Python 3"
    }
  },
  "cells": [
    {
      "cell_type": "code",
      "metadata": {
        "id": "78c4zX0zr7yr",
        "colab_type": "code",
        "colab": {}
      },
      "source": [
        "import tensorflow as tf\n",
        "import numpy as np\n",
        "\n"
      ],
      "execution_count": null,
      "outputs": []
    },
    {
      "cell_type": "code",
      "metadata": {
        "id": "2k3AuzY-sOwu",
        "colab_type": "code",
        "colab": {
          "base_uri": "https://localhost:8080/",
          "height": 52
        },
        "outputId": "ea37c890-889b-4fda-d59a-7c04c94933e6"
      },
      "source": [
        "# Loading the dataset (MNIST)\n",
        "(X_train,y_train),(X_test,y_test) =  tensorflow.keras.datasets.mnist.load_data()"
      ],
      "execution_count": null,
      "outputs": [
        {
          "output_type": "stream",
          "text": [
            "Downloading data from https://storage.googleapis.com/tensorflow/tf-keras-datasets/mnist.npz\n",
            "11493376/11490434 [==============================] - 0s 0us/step\n"
          ],
          "name": "stdout"
        }
      ]
    },
    {
      "cell_type": "code",
      "metadata": {
        "id": "zh3DvxdUsVFc",
        "colab_type": "code",
        "colab": {
          "base_uri": "https://localhost:8080/",
          "height": 34
        },
        "outputId": "33e8b741-a2ac-4f69-837b-e9b779380974"
      },
      "source": [
        "#Exploring the dataset\n",
        "X_train.shape, y_train.shape"
      ],
      "execution_count": null,
      "outputs": [
        {
          "output_type": "execute_result",
          "data": {
            "text/plain": [
              "((60000, 28, 28), (60000,))"
            ]
          },
          "metadata": {
            "tags": []
          },
          "execution_count": 15
        }
      ]
    },
    {
      "cell_type": "markdown",
      "metadata": {
        "id": "w91Qrks1tjIp",
        "colab_type": "text"
      },
      "source": [
        "X_train contains the training examples of piexel size 28 * 28\n",
        "and there are 60000 of them. These images are of single channel \n",
        "meaning they are grayscale in nature.\n",
        "y_train contains the target labels from 0 to 9 and there are 60000 of them"
      ]
    },
    {
      "cell_type": "code",
      "metadata": {
        "id": "2GOixab5tj8z",
        "colab_type": "code",
        "colab": {}
      },
      "source": [
        "inputshape=[28,28,1]\n",
        "#reshaping the datasets\n",
        "X_train = tf.reshape(X_train,[X_train.shape[0]]+inputshape)\n",
        "X_test = tf.reshape(X_test,[X_test.shape[0]]+inputshape)\n",
        "\n",
        "#casting the datasets\n",
        "X_train = tf.cast(X_train,dtype=tf.float32)\n",
        "X_test = tf.cast(X_test,dtype=tf.float32)\n",
        "\n",
        "# normalise the datsets\n",
        "X_train/=255\n",
        "X_test/=255"
      ],
      "execution_count": null,
      "outputs": []
    },
    {
      "cell_type": "code",
      "metadata": {
        "id": "6AJd9WgIvgqz",
        "colab_type": "code",
        "colab": {}
      },
      "source": [
        "#one hot encoding\n",
        "from sklearn.preprocessing import OneHotEncoder\n",
        "\n",
        "# Labels are reshaped so that can be one hot encoded\n",
        "y_train = tf.reshape(y_train,[-1,1])\n",
        "y_test = tf.reshape(y_test,[-1,1])\n",
        "\n",
        "encoder = OneHotEncoder(sparse=False)\n",
        "y_train = tf.convert_to_tensor(encoder.fit_transform(y_train))\n",
        "y_test = tf.convert_to_tensor(encoder.fit_transform(y_test))"
      ],
      "execution_count": null,
      "outputs": []
    },
    {
      "cell_type": "code",
      "metadata": {
        "id": "Hsl_8-V1vwKq",
        "colab_type": "code",
        "colab": {
          "base_uri": "https://localhost:8080/",
          "height": 383
        },
        "outputId": "495446db-ace0-4686-fe07-e7aff135ab54"
      },
      "source": [
        "# building the model\n",
        "model = tf.keras.Sequential([\n",
        "                             tf.keras.layers.Conv2D(28,(3,3),input_shape = inputshape),\n",
        "                             tf.keras.layers.MaxPooling2D(pool_size=(2,2)),\n",
        "                             tf.keras.layers.Flatten(),\n",
        "                             tf.keras.layers.Dense(128,activation=tf.nn.relu),\n",
        "                             tf.keras.layers.Dense(10,activation=tf.nn.softmax)\n",
        "\n",
        "])\n",
        "#compiling the model\n",
        "loss_fn = tf.keras.losses.CategoricalCrossentropy(from_logits=True)\n",
        "model.compile(optimizer = 'adam',loss=loss_fn,metrics = ['accuracy'])\n",
        "\n",
        "# Fitting the model\n",
        "h = model.fit(X_train,y_train,epochs=10,validation_data=(X_test,y_test),batch_size =32)"
      ],
      "execution_count": null,
      "outputs": [
        {
          "output_type": "stream",
          "text": [
            "Epoch 1/10\n",
            "1875/1875 [==============================] - 32s 17ms/step - loss: 1.5520 - accuracy: 0.9133 - val_loss: 1.5046 - val_accuracy: 0.9588\n",
            "Epoch 2/10\n",
            "1875/1875 [==============================] - 33s 18ms/step - loss: 1.4979 - accuracy: 0.9654 - val_loss: 1.4898 - val_accuracy: 0.9728\n",
            "Epoch 3/10\n",
            "1875/1875 [==============================] - 33s 18ms/step - loss: 1.4869 - accuracy: 0.9756 - val_loss: 1.4877 - val_accuracy: 0.9745\n",
            "Epoch 4/10\n",
            "1875/1875 [==============================] - 33s 17ms/step - loss: 1.4815 - accuracy: 0.9807 - val_loss: 1.4856 - val_accuracy: 0.9762\n",
            "Epoch 5/10\n",
            "1875/1875 [==============================] - 33s 17ms/step - loss: 1.4781 - accuracy: 0.9837 - val_loss: 1.4816 - val_accuracy: 0.9798\n",
            "Epoch 6/10\n",
            "1875/1875 [==============================] - 33s 17ms/step - loss: 1.4756 - accuracy: 0.9862 - val_loss: 1.4833 - val_accuracy: 0.9782\n",
            "Epoch 7/10\n",
            "1875/1875 [==============================] - 33s 17ms/step - loss: 1.4735 - accuracy: 0.9879 - val_loss: 1.4821 - val_accuracy: 0.9793\n",
            "Epoch 8/10\n",
            "1875/1875 [==============================] - 32s 17ms/step - loss: 1.4723 - accuracy: 0.9894 - val_loss: 1.4817 - val_accuracy: 0.9795\n",
            "Epoch 9/10\n",
            "1875/1875 [==============================] - 33s 17ms/step - loss: 1.4718 - accuracy: 0.9896 - val_loss: 1.4797 - val_accuracy: 0.9809\n",
            "Epoch 10/10\n",
            "1875/1875 [==============================] - 32s 17ms/step - loss: 1.4708 - accuracy: 0.9905 - val_loss: 1.4808 - val_accuracy: 0.9805\n"
          ],
          "name": "stdout"
        }
      ]
    },
    {
      "cell_type": "code",
      "metadata": {
        "id": "gkbLOukaz9d5",
        "colab_type": "code",
        "colab": {}
      },
      "source": [
        "model.save('model.h5')"
      ],
      "execution_count": null,
      "outputs": []
    },
    {
      "cell_type": "code",
      "metadata": {
        "id": "VDXRrxFU2aHx",
        "colab_type": "code",
        "colab": {}
      },
      "source": [
        ""
      ],
      "execution_count": null,
      "outputs": []
    }
  ]
}